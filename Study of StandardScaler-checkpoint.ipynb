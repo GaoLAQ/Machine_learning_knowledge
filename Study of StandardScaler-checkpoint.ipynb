{
 "cells": [
  {
   "cell_type": "markdown",
   "metadata": {},
   "source": [
    "## Day1: Make clear understanding of sckilearn scaler"
   ]
  },
  {
   "cell_type": "code",
   "execution_count": 1,
   "metadata": {},
   "outputs": [
    {
     "name": "stdout",
     "output_type": "stream",
     "text": [
      "scikit-learn version: 0.23.2\n"
     ]
    }
   ],
   "source": [
    "import sklearn # machine learning algorithms\n",
    "print(\"scikit-learn version: {}\". format(sklearn.__version__))\n",
    "from sklearn.preprocessing import StandardScaler"
   ]
  },
  {
   "cell_type": "code",
   "execution_count": 30,
   "metadata": {},
   "outputs": [
    {
     "name": "stdout",
     "output_type": "stream",
     "text": [
      "Orignal Data:[[-2.3, 2.1], [1.5, 0]]\n",
      "How scaler change data:[[-2.3, 2.1], [1.5, 0]]\n",
      "\n",
      "Scaler mean:-0.3999999999999999\n",
      "Scaler var:3.61\n",
      "\n",
      "What kind of data we got after transform:[[-1.  1.]\n",
      " [ 1. -1.]]\n",
      "\n",
      "After transform, Mean value:0.0\n",
      "After transform, Standard variance:1.0\n",
      "\n",
      "\n",
      "使用fit_transform(data) 一步达成结果:[[-1.  1.]\n",
      " [ 1. -1.]]\n",
      "\n",
      "\n",
      "使用inverse_transform 逆转标准化:[[-2.3  2.1]\n",
      " [ 1.5  0. ]]\n"
     ]
    }
   ],
   "source": [
    "# Data is a matrix: [[],[],[]], got it \n",
    "data = [[-2.3, 2.1], [1.5, 0]]\n",
    "print(\"Orignal Data:{}\".format(data))\n",
    "scaler = StandardScaler()\n",
    "scaler.fit(data)\n",
    "print(\"How scaler change data:{}\".format(data))\n",
    "print()\n",
    "print(\"Scaler mean:{}\".format(scaler.mean_[0]))\n",
    "print(\"Scaler var:{}\".format(scaler.var_[0]))\n",
    "print()\n",
    "x_std = scaler.transform(data)\n",
    "print(\"What kind of data we got after transform:{}\".format(x_std))\n",
    "print()\n",
    "print(\"After transform, Mean value:{}\".format(x_std.mean()))\n",
    "print(\"After transform, Standard variance:{}\".format(x_std.std()))\n",
    "print('\\n')\n",
    "print(\"使用fit_transform(data) 一步达成结果:{}\".format(scaler.fit_transform(data)))\n",
    "print('\\n')\n",
    "print(\"使用inverse_transform 逆转标准化:{}\".format(scaler.inverse_transform(x_std)))"
   ]
  },
  {
   "cell_type": "markdown",
   "metadata": {},
   "source": [
    "# Q and A\n"
   ]
  },
  {
   "cell_type": "markdown",
   "metadata": {},
   "source": [
    "#### Difference in tranform and fit_transform. \n",
    "We use fit_transform to do training data, change parameters to maintain mean and variance to be 0,1. \n",
    "After fit_transform process, we need to use parameters to apply into testing data "
   ]
  },
  {
   "cell_type": "markdown",
   "metadata": {},
   "source": [
    "#### Why we use data standardization\n",
    "- Data standardization is the process of rescaling the attributes so that they have mean as 0 and variance as 1.\n",
    "- The ultimate goal to perform standardization is to bring down all the features to a common scale without distorting the differences in the range of the values.\n",
    "- In sklearn.preprocessing.StandardScaler(), centering and scaling happens independently on each feature."
   ]
  }
 ],
 "metadata": {
  "kernelspec": {
   "display_name": "Python 3",
   "language": "python",
   "name": "python3"
  },
  "language_info": {
   "codemirror_mode": {
    "name": "ipython",
    "version": 3
   },
   "file_extension": ".py",
   "mimetype": "text/x-python",
   "name": "python",
   "nbconvert_exporter": "python",
   "pygments_lexer": "ipython3",
   "version": "3.8.5"
  }
 },
 "nbformat": 4,
 "nbformat_minor": 4
}